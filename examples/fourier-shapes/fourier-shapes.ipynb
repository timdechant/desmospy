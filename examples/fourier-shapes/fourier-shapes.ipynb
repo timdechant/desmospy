{
 "cells": [
  {
   "cell_type": "raw",
   "id": "3ababc76-b221-4833-b5ad-42ad8ac0b340",
   "metadata": {},
   "source": [
    "!pip install 'desmospy>=0.0.5'"
   ]
  },
  {
   "cell_type": "markdown",
   "id": "e416cde5-f460-48ed-879e-c2e23eaea301",
   "metadata": {},
   "source": [
    "> [!NOTE]\n",
    ">\n",
    "> [Jump straight to the output *here*.](https://nbviewer.org/github/timdechant/desmospy/blob/main/examples/fourier-shapes/fourier-shapes.htm)\n",
    ">\n",
    "> [See a live view as a Jupyter notebook.](https://nbviewer.org/github/timdechant/desmospy/blob/main/examples/fourier-shapes/fourier-shapes.ipynb)\n",
    "> \n",
    "> [See source code and more examples on github.](https://github.com/timdechant/desmospy)\n",
    "\n",
    "# Python and Desmos\n",
    "\n",
    "Python processing with Desmos interaction!  This shows the power of combining the two.\n",
    "\n",
    "## Getting Started\n",
    "\n",
    "Import the Calculator class from <code>desmospy</code> and create an instance.\n",
    "\n",
    "<code>Calculator</code> takes one custom argument <code>size</code> to control the frame view; all other arguments are forwarded to the [Desmos API](https://www.desmos.com/api/v1.9/docs/index.html#document-calculator)."
   ]
  },
  {
   "cell_type": "code",
   "execution_count": 1,
   "id": "108ff828-7eaf-4203-b9c9-43f6dd8ab829",
   "metadata": {},
   "outputs": [],
   "source": [
    "from desmospy import Calculator\n",
    "import numpy as np\n",
    "\n",
    "calc = Calculator(size=(1200,600), showGrid=False, showXAxis=False, showYAxis=False)"
   ]
  },
  {
   "cell_type": "markdown",
   "id": "eff9b373-cebc-4159-b810-8544225cac28",
   "metadata": {},
   "source": [
    "Everything you need from desmospy is available using that <code>calc</code> object!\n",
    "\n",
    "## Python Processing\n",
    "\n",
    "We start by pulling in a CSV file containing a series of points.  This is then transformed into the frequency domain using a Fast Fourier Transform (FFT)."
   ]
  },
  {
   "cell_type": "code",
   "execution_count": 2,
   "id": "5e5a8ce3-feb4-49f4-a9dd-bf5b28ea86e9",
   "metadata": {},
   "outputs": [],
   "source": [
    "j=(0+1j)\n",
    "\n",
    "shape = np.loadtxt('shape.csv', skiprows=1, delimiter=\",\", dtype=float)\n",
    "fft = np.fft.fft(shape[:,0] + j*shape[:,1])\n",
    "if not (fft.shape[0] % 2):\n",
    "    pass#fft = fft[:-1]\n",
    "fft = np.fft.fftshift(fft)\n",
    "\n",
    "n = fft.shape[0]\n",
    "mag = np.abs(fft/n)\n",
    "phase = np.angle(fft)\n",
    "\n",
    "fmax = n//2\n",
    "freq = range(-fmax,fmax+1)\n",
    "\n",
    "components = list(zip(freq,mag,phase))\n",
    "components.sort(key=lambda fmp: abs(fmp[0]))"
   ]
  },
  {
   "cell_type": "markdown",
   "id": "dc28d508-9fc6-4bce-a094-89ba4416dcd2",
   "metadata": {},
   "source": [
    "## Desmos Expressions\n",
    "\n",
    "FFT converts the time-domain (or in our case, the 2D space domain) points into frequency components.\n",
    "\n",
    "Each frequency component is define by three values: magnitude $m_i$, frequency $f_i$, and starting phase/angle $p_i$.\n",
    "\n",
    "We will load these values into Desmos, then algebraically calculate the Inverse Fourier Transform:\n",
    "\n",
    "$$\n",
    "f(t) = \\sum_{i=1}^{n} m_i \\cdot \\bigg(cos\\big(2\\pi \\cdot t f_i + p_i\\big) + j \\cdot sin\\big(2\\pi \\cdot t f_i + p_i\\big)\\bigg)\n",
    "$$"
   ]
  },
  {
   "cell_type": "code",
   "execution_count": 3,
   "id": "c7ef4b4a-f85e-435e-bf71-7d5305907633",
   "metadata": {},
   "outputs": [],
   "source": [
    "f_max = max(abs(f) for f,m,p in components if m > 0.08)\n",
    "\n",
    "f_m_p = [ (f,round(m,2),round(p,2)) for f,m,p in components if m > 0.12]# if abs(f) <= f_max]\n",
    "f,m,p = zip(*f_m_p)\n",
    "# calc.n_f = len(f)\n",
    "\n",
    "def subscript(f):\n",
    "    sign_char = 'p' if f > 0 else 'n' if f < 0 else ''\n",
    "    return sign_char + str(abs(f))\n",
    "\n",
    "calc.f = f\n",
    "calc.m = [ calc.__getattr__('m_{%s}'%subscript(f[i])) for i in range(len(m)) ]\n",
    "calc.p = [ calc.__getattr__('p_{%s}'%subscript(f[i])) for i in range(len(p)) ]\n",
    "\n",
    "folder = calc.folder('<== Open folder for components!')\n",
    "for i in range(len(m)):\n",
    "    folder.__setattr__('m_{%s}'%subscript(f[i]), m[i])\n",
    "    folder.__getattr__('m_{%s}'%subscript(f[i])).config(sliderBounds={'min': 0, 'max': round(10*m[i],2)})\n",
    "    folder.__setattr__('p_{%s}'%subscript(f[i]), p[i])\n",
    "    folder.__getattr__('p_{%s}'%subscript(f[i])).config(sliderBounds={'min': round(-np.pi,2), 'max': round(np.pi,2)})\n",
    "\n",
    "def unit_vector(theta):\n",
    "    return calc.point(calc.cos(theta), calc.sin(theta))\n",
    "\n",
    "@calc.function\n",
    "def shape(t, n):\n",
    "    def component(i):\n",
    "        return calc.m[i-1] * unit_vector(2*calc.pi * t*calc.f[i-1] + calc.p[i-1])\n",
    "    return calc.sum(component, i=[1,n])\n",
    "\n",
    "calc.t_c = 0\n",
    "calc.f_complete = shape(calc.range(1,3001)/3000, len(f))\n",
    "calc.f_trace = shape(calc.t_c, calc.range(1,len(f)+1))\n",
    "calc.f_dot = shape(calc.t_c, len(f))"
   ]
  },
  {
   "cell_type": "markdown",
   "id": "b6a6c4d8-1621-4b96-aeb6-daddac74d4a7",
   "metadata": {},
   "source": [
    "Finally, we do a bit of formatting and display the results!"
   ]
  },
  {
   "cell_type": "code",
   "execution_count": 4,
   "id": "9abd92f3-4fd6-470a-a784-634078bf8627",
   "metadata": {},
   "outputs": [
    {
     "data": {
      "text/html": [
       "\n",
       "        <iframe\n",
       "            width=\"1200\"\n",
       "            height=\"600\"\n",
       "            src=\"data:text/html;base64,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\"\n",
       "            frameborder=\"0\"\n",
       "            allowfullscreen\n",
       "            \n",
       "        ></iframe>\n",
       "        "
      ],
      "text/plain": [
       "<IPython.lib.display.IFrame at 0x7f93a85a6c10>"
      ]
     },
     "metadata": {},
     "output_type": "display_data"
    }
   ],
   "source": [
    "calc.t_c.config(sliderBounds={'min': 0, 'max': 1}, playing=True) #, animationPeriod=80000, loopMode=\"LOOP_FORWARD\")\n",
    "calc.f_complete.config(points=False, lines=True, lineWidth=5, color=\"#87A5C4\")\n",
    "calc.f_trace.config(points=True, pointSize=3, lines=True, lineWidth=1, color=\"#111111\")\n",
    "calc.f_dot.config(pointSize=20, pointStyle=\"OPEN\", color=\"black\")\n",
    "\n",
    "calc.bounds(left=-3, right=23, bottom=0, top=20)\n",
    "calc.show(clear=False)"
   ]
  },
  {
   "cell_type": "markdown",
   "id": "3aa6d042-c0eb-4a7f-a796-67dd2af9346a",
   "metadata": {},
   "source": [
    "We <code>show</code>'ed that with <code>clear=False</code>, so calc remains fully intact.  [Let's save a second copy to an HTML file; see it *here*.](https://nbviewer.org/github/timdechant/desmospy/blob/main/examples/fourier-script-shape/fourier-script-shape.htm)."
   ]
  },
  {
   "cell_type": "code",
   "execution_count": 5,
   "id": "739dcc3e-c5a1-49db-897d-3c582ffd48fa",
   "metadata": {},
   "outputs": [],
   "source": [
    "calc.save('fourier-shapes.htm')"
   ]
  }
 ],
 "metadata": {
  "kernelspec": {
   "display_name": "Python 3 (ipykernel)",
   "language": "python",
   "name": "python3"
  },
  "language_info": {
   "codemirror_mode": {
    "name": "ipython",
    "version": 3
   },
   "file_extension": ".py",
   "mimetype": "text/x-python",
   "name": "python",
   "nbconvert_exporter": "python",
   "pygments_lexer": "ipython3",
   "version": "3.9.18"
  }
 },
 "nbformat": 4,
 "nbformat_minor": 5
}
