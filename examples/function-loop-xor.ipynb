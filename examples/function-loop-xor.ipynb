{
 "cells": [
  {
   "cell_type": "raw",
   "id": "cbe540d0-4e54-42fd-aa9f-2af8ecf6bd5b",
   "metadata": {},
   "source": [
    "!pip install desmospy"
   ]
  },
  {
   "cell_type": "markdown",
   "id": "e416cde5-f460-48ed-879e-c2e23eaea301",
   "metadata": {},
   "source": [
    "> [!NOTE]\n",
    "> \n",
    "> [See a live view as a Jupyter notebook.](https://nbviewer.org/github/timdechant/desmospy/blob/main/examples/function-loop-xor.ipynb)\n",
    "> \n",
    "> [See source code and more examples on github.](https://github.com/timdechant/desmospy)\n",
    "\n",
    "# Functions, Looping, and XOR regions\n",
    "\n",
    "Python functions can be used to define algebraic functions!  This includes looping, as long as the loop conditions are fixed at Python's runtime.\n",
    "\n",
    "## Getting Started\n",
    "\n",
    "Import the Calculator class from <code>desmospy</code> and create an instance.  Everything you need from desmospy is accessible from that instance!"
   ]
  },
  {
   "cell_type": "code",
   "execution_count": 1,
   "id": "108ff828-7eaf-4203-b9c9-43f6dd8ab829",
   "metadata": {},
   "outputs": [],
   "source": [
    "from desmospy import Calculator\n",
    "\n",
    "c = Calculator(size=(1024,720), showGrid=False, showXAxis=False, showYAxis=False)"
   ]
  },
  {
   "cell_type": "markdown",
   "id": "002e8826-17e2-4825-92cf-be7aab6defe4",
   "metadata": {},
   "source": [
    "## Defining Functions\n",
    "\n",
    "The <code>function</code> method can be used directly or as a decorator.\n",
    "\n",
    "First we define the <code>circle()</code> function directly, then we loop on that to define the <code>circles()</code> function.\n",
    "\n",
    "+ A few things this demonstrates:\n",
    "  + The <code>circle()</code> function is defined as a member of the <code>Calculator</code> instance <code>c</code>.\n",
    "  + We could have also created a standalone function with code like <code>circle = c.function(name=\"circle\", ...</code>\n",
    "  + Both python functions are shown algebraically within the Desmos view; this helps the end user to interpret your model.\n",
    "  + Desmos function names can only contain one letter, plus subscripts; longer function names are shown in Desmos as subscripts of <code>f</code>."
   ]
  },
  {
   "cell_type": "code",
   "execution_count": 2,
   "id": "5e5a8ce3-feb4-49f4-a9dd-bf5b28ea86e9",
   "metadata": {},
   "outputs": [
    {
     "data": {
      "text/html": [
       "\n",
       "        <iframe\n",
       "            width=\"1024\"\n",
       "            height=\"720\"\n",
       "            src=\"data:text/html;base64,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\"\n",
       "            frameborder=\"0\"\n",
       "            allowfullscreen\n",
       "            \n",
       "        ></iframe>\n",
       "        "
      ],
      "text/plain": [
       "<IPython.lib.display.IFrame at 0x7fdca3ee8790>"
      ]
     },
     "metadata": {},
     "output_type": "display_data"
    }
   ],
   "source": [
    "c.function(lambda x,y,r: (y)**2 + (x)**2 < r**2, name=\"circle\")\n",
    "\n",
    "@c.function\n",
    "def circles(x, y, a=6.1, r0=5.6):\n",
    "    val = None\n",
    "    step = 2*c.pi/16\n",
    "    for i in range(16):\n",
    "        x0,y0 = a*c.cos(step*i),a*c.sin(step*i)\n",
    "        val = val ^ c.circle(x-x0,y-y0,r0)\n",
    "    return val\n",
    "\n",
    "x,y = c.x,c.y\n",
    "c.set(circles(x,y))\n",
    "c.set(circles(x,y) >= (c.a+c.r0)**23)\n",
    "c.show()"
   ]
  }
 ],
 "metadata": {
  "kernelspec": {
   "display_name": "Python 3 (ipykernel)",
   "language": "python",
   "name": "python3"
  },
  "language_info": {
   "codemirror_mode": {
    "name": "ipython",
    "version": 3
   },
   "file_extension": ".py",
   "mimetype": "text/x-python",
   "name": "python",
   "nbconvert_exporter": "python",
   "pygments_lexer": "ipython3",
   "version": "3.9.18"
  }
 },
 "nbformat": 4,
 "nbformat_minor": 5
}
