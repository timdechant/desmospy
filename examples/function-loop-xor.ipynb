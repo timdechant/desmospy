{
 "cells": [
  {
   "cell_type": "raw",
   "id": "cbe540d0-4e54-42fd-aa9f-2af8ecf6bd5b",
   "metadata": {},
   "source": [
    "!pip install desmospy"
   ]
  },
  {
   "cell_type": "markdown",
   "id": "e416cde5-f460-48ed-879e-c2e23eaea301",
   "metadata": {},
   "source": [
    "> [!NOTE]\n",
    "> \n",
    "> [See a live view as a Jupyter notebook.](https://nbviewer.org/github/timdechant/desmospy/blob/main/examples/function-loop-xor.ipynb)\n",
    "> \n",
    "> [See source code and more examples on github.](https://github.com/timdechant/desmospy)\n",
    "\n",
    "# Functions, Looping, and XOR regions\n",
    "\n",
    "Python functions can be used to define algebraic functions!  This includes looping, as long as the loop conditions are fixed at Python's runtime.\n",
    "\n",
    "## Getting Started\n",
    "\n",
    "Import the Calculator class from <code>desmospy</code> and create an instance.\n",
    "\n",
    "<code>Calculator</code> takes one custom argument <code>size</code> to control the frame view; all other arguments are forwarded to the [Desmos API](https://www.desmos.com/api/v1.9/docs/index.html#document-calculator)."
   ]
  },
  {
   "cell_type": "code",
   "execution_count": 1,
   "id": "108ff828-7eaf-4203-b9c9-43f6dd8ab829",
   "metadata": {},
   "outputs": [],
   "source": [
    "from desmospy import Calculator\n",
    "\n",
    "calc = Calculator(size=(800,600), showGrid=False, showXAxis=False, showYAxis=False)"
   ]
  },
  {
   "cell_type": "markdown",
   "id": "002e8826-17e2-4825-92cf-be7aab6defe4",
   "metadata": {},
   "source": [
    "Everything you need from desmospy is available using that <code>calc</code> object!\n",
    "\n",
    "## Defining Functions\n",
    "\n",
    "The <code>.function()</code> method can be used directly or as a decorator; both are shown below.\n",
    "\n",
    "First we define the <code>circle()</code> function directly, then we loop on that to define the <code>flower()</code> function.\n",
    "\n",
    "+ A few things this demonstrates:\n",
    "  + The <code>circle()</code> function is defined as a member of the <code>Calculator</code> instance <code>calc</code>.\n",
    "  + We could have also created a standalone function with code like <code>circle = c.function(name=\"circle\", ...</code>\n",
    "  + Both python functions are shown algebraically within the Desmos view; this helps the end user to interpret your model.\n",
    "  + Desmos function names can only contain one letter, plus subscripts; longer function names appear in Desmos as subscripts of <code>f</code>."
   ]
  },
  {
   "cell_type": "code",
   "execution_count": 2,
   "id": "5e5a8ce3-feb4-49f4-a9dd-bf5b28ea86e9",
   "metadata": {},
   "outputs": [
    {
     "data": {
      "text/html": [
       "\n",
       "        <iframe\n",
       "            width=\"800\"\n",
       "            height=\"600\"\n",
       "            src=\"data:text/html;base64,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\"\n",
       "            frameborder=\"0\"\n",
       "            allowfullscreen\n",
       "            \n",
       "        ></iframe>\n",
       "        "
      ],
      "text/plain": [
       "<IPython.lib.display.IFrame at 0x7f0869725ee0>"
      ]
     },
     "metadata": {},
     "output_type": "display_data"
    }
   ],
   "source": [
    "calc.function(lambda x,y,r: (y)**2 + (x)**2 < r**2, name=\"circle\")\n",
    "\n",
    "@calc.function\n",
    "def combo(x, y, a=6.1, r0=5.6):\n",
    "    val = None\n",
    "    step = 2*calc.pi/16\n",
    "    for i in range(16):\n",
    "        x0 = a * calc.cos(step*i)\n",
    "        y0 = a * calc.sin(step*i)\n",
    "        val = val ^ calc.circle(x-x0, y-y0, r0)\n",
    "    return val\n",
    "\n",
    "x,y = calc.x,calc.y\n",
    "calc.set(combo(x,y))\n",
    "calc.set(combo(x,y) >= (calc.a+calc.r0)**23)\n",
    "calc.show(clear=False)"
   ]
  },
  {
   "cell_type": "markdown",
   "id": "3aa6d042-c0eb-4a7f-a796-67dd2af9346a",
   "metadata": {},
   "source": [
    "We <code>show</code>ed that with <code>clear=False</code>, so calc is still available.  Let's save a second copy, [visible here](https://nbviewer.org/github/timdechant/desmospy/blob/main/examples/function-loop-xor.htm)."
   ]
  },
  {
   "cell_type": "code",
   "execution_count": 3,
   "id": "739dcc3e-c5a1-49db-897d-3c582ffd48fa",
   "metadata": {},
   "outputs": [],
   "source": [
    "calc.save('function-loop-xor.htm')"
   ]
  }
 ],
 "metadata": {
  "kernelspec": {
   "display_name": "Python 3 (ipykernel)",
   "language": "python",
   "name": "python3"
  },
  "language_info": {
   "codemirror_mode": {
    "name": "ipython",
    "version": 3
   },
   "file_extension": ".py",
   "mimetype": "text/x-python",
   "name": "python",
   "nbconvert_exporter": "python",
   "pygments_lexer": "ipython3",
   "version": "3.9.18"
  }
 },
 "nbformat": 4,
 "nbformat_minor": 5
}
