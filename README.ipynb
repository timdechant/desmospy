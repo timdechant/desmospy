{
 "cells": [
  {
   "cell_type": "markdown",
   "id": "7db35677-f039-4b16-9461-9e262ca8aaf8",
   "metadata": {},
   "source": [
    " <code>demospy</code> has these immediate goals:\n",
    "  - present the Desmos API with consistent terminology\n",
    "  - keep it simple, keep it pythonic\n",
    "\n",
    "Basic usage is very simple.  Create an instance of <code>Calculator</code>, then assign to one of its members."
   ]
  },
  {
   "cell_type": "code",
   "execution_count": 1,
   "id": "d2284abd-171a-42cf-8d86-d3b055e5c027",
   "metadata": {},
   "outputs": [
    {
     "data": {
      "text/html": [
       "\n",
       "        <iframe\n",
       "            width=\"720\"\n",
       "            height=\"360\"\n",
       "            src=\"data:text/html;base64,Cjxib2R5IHN0eWxlPSJiYWNrZ3JvdW5kLWNvbG9yOiMyQTJBMkE7IiBtYXJnaW53aWR0aD0iMHB4IiBtYXJnaW5oZWlnaHQ9IjBweCI+CjxzY3JpcHQgc3JjPSJodHRwczovL3d3dy5kZXNtb3MuY29tL2FwaS92MS45L2NhbGN1bGF0b3IuanM/YXBpS2V5PWRjYjMxNzA5YjQ1MmIxY2Y5ZGMyNjk3MmFkZDBmZGE2Ij48L3NjcmlwdD4KPGRpdiBpZD0iY2FsY3VsYXRvciI+PC9kaXY+CjxzY3JpcHQ+Cgl2YXIgZWx0ID0gZG9jdW1lbnQuZ2V0RWxlbWVudEJ5SWQoImNhbGN1bGF0b3IiKTsKCXZhciBjYWxjdWxhdG9yID0gRGVzbW9zLkdyYXBoaW5nQ2FsY3VsYXRvcihlbHQsIG9wdGlvbnM9e30pOwoJY2FsY3VsYXRvci5zZXRFeHByZXNzaW9uKHsKCQlsYXRleDogJ3kgPSAwLjUgeCArIDMnLAoJCWlkOiAnMCcsCgl9KTsKCjwvc2NyaXB0Pgo=\"\n",
       "            frameborder=\"0\"\n",
       "            allowfullscreen\n",
       "            \n",
       "        ></iframe>\n",
       "        "
      ],
      "text/plain": [
       "<IPython.lib.display.IFrame at 0x7f0a88140ca0>"
      ]
     },
     "metadata": {},
     "output_type": "display_data"
    }
   ],
   "source": [
    "from desmospy import Calculator\n",
    "\n",
    "c = Calculator()\n",
    "c.y = 1/2 * c.x + 3\n",
    "c.show()"
   ]
  },
  {
   "cell_type": "markdown",
   "id": "afa5c558-b1bb-4628-8162-d451a7e85a3f",
   "metadata": {},
   "source": [
    "More advanced plots can be created with comparisons and the <code>.define()</code> method:"
   ]
  },
  {
   "cell_type": "code",
   "execution_count": 2,
   "id": "524de5bc-7606-40cd-818c-bc18580c4c58",
   "metadata": {},
   "outputs": [
    {
     "data": {
      "text/html": [
       "\n",
       "        <iframe\n",
       "            width=\"720\"\n",
       "            height=\"360\"\n",
       "            src=\"data:text/html;base64,Cjxib2R5IHN0eWxlPSJiYWNrZ3JvdW5kLWNvbG9yOiMyQTJBMkE7IiBtYXJnaW53aWR0aD0iMHB4IiBtYXJnaW5oZWlnaHQ9IjBweCI+CjxzY3JpcHQgc3JjPSJodHRwczovL3d3dy5kZXNtb3MuY29tL2FwaS92MS45L2NhbGN1bGF0b3IuanM/YXBpS2V5PWRjYjMxNzA5YjQ1MmIxY2Y5ZGMyNjk3MmFkZDBmZGE2Ij48L3NjcmlwdD4KPGRpdiBpZD0iY2FsY3VsYXRvciI+PC9kaXY+CjxzY3JpcHQ+Cgl2YXIgZWx0ID0gZG9jdW1lbnQuZ2V0RWxlbWVudEJ5SWQoImNhbGN1bGF0b3IiKTsKCXZhciBjYWxjdWxhdG9yID0gRGVzbW9zLkdyYXBoaW5nQ2FsY3VsYXRvcihlbHQsIG9wdGlvbnM9e30pOwoJY2FsY3VsYXRvci5zZXRFeHByZXNzaW9uKHsKCQlsYXRleDogJ2EgPSAwLjMnLAoJCWlkOiAnMCcsCgl9KTsKCmNhbGN1bGF0b3Iuc2V0RXhwcmVzc2lvbih7CgkJbGF0ZXg6ICd5IFxcbHQgYSB4JywKCQlpZDogJzEnLAoJfSk7CgpjYWxjdWxhdG9yLnNldEV4cHJlc3Npb24oewoJCWxhdGV4OiAneSBcXGdlIGEgeF57Mn0nLAoJCWlkOiAnMicsCgl9KTsKCmNhbGN1bGF0b3Iuc2V0RXhwcmVzc2lvbih7CgkJbGF0ZXg6ICdhIHggeSA9IDEnLAoJCWlkOiAnMycsCgl9KTsKCjwvc2NyaXB0Pgo=\"\n",
       "            frameborder=\"0\"\n",
       "            allowfullscreen\n",
       "            \n",
       "        ></iframe>\n",
       "        "
      ],
      "text/plain": [
       "<IPython.lib.display.IFrame at 0x7f0a6d03ddf0>"
      ]
     },
     "metadata": {},
     "output_type": "display_data"
    }
   ],
   "source": [
    "c.a = 0.3\n",
    "c.define(c.y < c.a * c.x)\n",
    "c.define(c.y >= c.a * c.x**2)\n",
    "c.define(c.a * c.x * c.y == 1)\n",
    "c.show()"
   ]
  },
  {
   "cell_type": "markdown",
   "id": "35f69952-4d5e-4869-b26c-18ca531db2bc",
   "metadata": {},
   "source": [
    "Equations and inequalities can also be combined."
   ]
  },
  {
   "cell_type": "code",
   "execution_count": 3,
   "id": "21eb7b00-ead8-4f6c-bece-871152ed8029",
   "metadata": {},
   "outputs": [
    {
     "data": {
      "text/html": [
       "\n",
       "        <iframe\n",
       "            width=\"720\"\n",
       "            height=\"360\"\n",
       "            src=\"data:text/html;base64,Cjxib2R5IHN0eWxlPSJiYWNrZ3JvdW5kLWNvbG9yOiMyQTJBMkE7IiBtYXJnaW53aWR0aD0iMHB4IiBtYXJnaW5oZWlnaHQ9IjBweCI+CjxzY3JpcHQgc3JjPSJodHRwczovL3d3dy5kZXNtb3MuY29tL2FwaS92MS45L2NhbGN1bGF0b3IuanM/YXBpS2V5PWRjYjMxNzA5YjQ1MmIxY2Y5ZGMyNjk3MmFkZDBmZGE2Ij48L3NjcmlwdD4KPGRpdiBpZD0iY2FsY3VsYXRvciI+PC9kaXY+CjxzY3JpcHQ+Cgl2YXIgZWx0ID0gZG9jdW1lbnQuZ2V0RWxlbWVudEJ5SWQoImNhbGN1bGF0b3IiKTsKCXZhciBjYWxjdWxhdG9yID0gRGVzbW9zLkdyYXBoaW5nQ2FsY3VsYXRvcihlbHQsIG9wdGlvbnM9e30pOwoJY2FsY3VsYXRvci5zZXRFeHByZXNzaW9uKHsKCQlsYXRleDogJ21heCgtIHleezJ9IC0gXFxsZWZ0KHggKyAzXFxyaWdodCleezJ9ICsgMjUsIC0geV57Mn0gLSBcXGxlZnQoeCAtIDNcXHJpZ2h0KV57Mn0gKyAyNSkgXFxnZSAwJywKCQlpZDogJzAnLAoJfSk7Cgo8L3NjcmlwdD4K\"\n",
       "            frameborder=\"0\"\n",
       "            allowfullscreen\n",
       "            \n",
       "        ></iframe>\n",
       "        "
      ],
      "text/plain": [
       "<IPython.lib.display.IFrame at 0x7f0a6d057160>"
      ]
     },
     "metadata": {},
     "output_type": "display_data"
    }
   ],
   "source": [
    "circle_A = ((c.x + 3)**2 + c.y**2 <= 25)\n",
    "circle_B = ((c.x - 3)**2 + c.y**2 <= 25)\n",
    "\n",
    "c.define(circle_A | circle_B)\n",
    "c.show()"
   ]
  },
  {
   "cell_type": "code",
   "execution_count": 4,
   "id": "cbf7f559-8d1d-4e41-a441-c6493148cef0",
   "metadata": {},
   "outputs": [
    {
     "data": {
      "text/html": [
       "\n",
       "        <iframe\n",
       "            width=\"720\"\n",
       "            height=\"360\"\n",
       "            src=\"data:text/html;base64,Cjxib2R5IHN0eWxlPSJiYWNrZ3JvdW5kLWNvbG9yOiMyQTJBMkE7IiBtYXJnaW53aWR0aD0iMHB4IiBtYXJnaW5oZWlnaHQ9IjBweCI+CjxzY3JpcHQgc3JjPSJodHRwczovL3d3dy5kZXNtb3MuY29tL2FwaS92MS45L2NhbGN1bGF0b3IuanM/YXBpS2V5PWRjYjMxNzA5YjQ1MmIxY2Y5ZGMyNjk3MmFkZDBmZGE2Ij48L3NjcmlwdD4KPGRpdiBpZD0iY2FsY3VsYXRvciI+PC9kaXY+CjxzY3JpcHQ+Cgl2YXIgZWx0ID0gZG9jdW1lbnQuZ2V0RWxlbWVudEJ5SWQoImNhbGN1bGF0b3IiKTsKCXZhciBjYWxjdWxhdG9yID0gRGVzbW9zLkdyYXBoaW5nQ2FsY3VsYXRvcihlbHQsIG9wdGlvbnM9e30pOwoJY2FsY3VsYXRvci5zZXRFeHByZXNzaW9uKHsKCQlsYXRleDogJ21pbigtIHleezJ9IC0gXFxsZWZ0KHggKyAzXFxyaWdodCleezJ9ICsgMjUsIC0geV57Mn0gLSBcXGxlZnQoeCAtIDNcXHJpZ2h0KV57Mn0gKyAyNSkgXFxnZSAwJywKCQlpZDogJzAnLAoJfSk7Cgo8L3NjcmlwdD4K\"\n",
       "            frameborder=\"0\"\n",
       "            allowfullscreen\n",
       "            \n",
       "        ></iframe>\n",
       "        "
      ],
      "text/plain": [
       "<IPython.lib.display.IFrame at 0x7f0a840542b0>"
      ]
     },
     "metadata": {},
     "output_type": "display_data"
    }
   ],
   "source": [
    "c.define(circle_A & circle_B)\n",
    "c.show()"
   ]
  },
  {
   "cell_type": "code",
   "execution_count": 5,
   "id": "562bf24f-17ab-4c4d-a0a7-1aa31182053a",
   "metadata": {},
   "outputs": [
    {
     "data": {
      "text/html": [
       "\n",
       "        <iframe\n",
       "            width=\"720\"\n",
       "            height=\"360\"\n",
       "            src=\"data:text/html;base64,Cjxib2R5IHN0eWxlPSJiYWNrZ3JvdW5kLWNvbG9yOiMyQTJBMkE7IiBtYXJnaW53aWR0aD0iMHB4IiBtYXJnaW5oZWlnaHQ9IjBweCI+CjxzY3JpcHQgc3JjPSJodHRwczovL3d3dy5kZXNtb3MuY29tL2FwaS92MS45L2NhbGN1bGF0b3IuanM/YXBpS2V5PWRjYjMxNzA5YjQ1MmIxY2Y5ZGMyNjk3MmFkZDBmZGE2Ij48L3NjcmlwdD4KPGRpdiBpZD0iY2FsY3VsYXRvciI+PC9kaXY+CjxzY3JpcHQ+Cgl2YXIgZWx0ID0gZG9jdW1lbnQuZ2V0RWxlbWVudEJ5SWQoImNhbGN1bGF0b3IiKTsKCXZhciBjYWxjdWxhdG9yID0gRGVzbW9zLkdyYXBoaW5nQ2FsY3VsYXRvcihlbHQsIG9wdGlvbnM9e30pOwoJY2FsY3VsYXRvci5zZXRFeHByZXNzaW9uKHsKCQlsYXRleDogJygtKC0geV57Mn0gLSBcXGxlZnQoeCArIDNcXHJpZ2h0KV57Mn0gKyAyNSkqKC0geV57Mn0gLSBcXGxlZnQoeCAtIDNcXHJpZ2h0KV57Mn0gKyAyNSkpIFxcZ2UgMCcsCgkJaWQ6ICcwJywKCX0pOwoKPC9zY3JpcHQ+Cg==\"\n",
       "            frameborder=\"0\"\n",
       "            allowfullscreen\n",
       "            \n",
       "        ></iframe>\n",
       "        "
      ],
      "text/plain": [
       "<IPython.lib.display.IFrame at 0x7f0a6d03dc70>"
      ]
     },
     "metadata": {},
     "output_type": "display_data"
    }
   ],
   "source": [
    "c.define(circle_A ^ circle_B)\n",
    "c.show()"
   ]
  },
  {
   "cell_type": "code",
   "execution_count": null,
   "id": "aa01d526-65d9-49a9-aa8a-fde3132e853c",
   "metadata": {},
   "outputs": [],
   "source": []
  },
  {
   "cell_type": "code",
   "execution_count": null,
   "id": "b44eedd4-f786-4c9a-bddf-5ebbc03423af",
   "metadata": {},
   "outputs": [],
   "source": []
  }
 ],
 "metadata": {
  "kernelspec": {
   "display_name": "Python 3 (ipykernel)",
   "language": "python",
   "name": "python3"
  },
  "language_info": {
   "codemirror_mode": {
    "name": "ipython",
    "version": 3
   },
   "file_extension": ".py",
   "mimetype": "text/x-python",
   "name": "python",
   "nbconvert_exporter": "python",
   "pygments_lexer": "ipython3",
   "version": "3.9.18"
  }
 },
 "nbformat": 4,
 "nbformat_minor": 5
}
