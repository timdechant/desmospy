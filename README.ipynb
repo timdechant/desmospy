{
 "cells": [
  {
   "cell_type": "markdown",
   "id": "7db35677-f039-4b16-9461-9e262ca8aaf8",
   "metadata": {},
   "source": [
    "<code>demospy</code> has these immediate goals:\n",
    "  - present the Desmos API with consistent terminology\n",
    "  - keep it simple, keep it pythonic\n",
    "\n",
    "Basic usage is very simple.  Create an instance of <code>Calculator</code>, then assign to one of its members."
   ]
  },
  {
   "cell_type": "code",
   "execution_count": 1,
   "id": "d2284abd-171a-42cf-8d86-d3b055e5c027",
   "metadata": {},
   "outputs": [
    {
     "data": {
      "text/html": [
       "\n",
       "        <iframe\n",
       "            width=\"720\"\n",
       "            height=\"360\"\n",
       "            src=\"data:text/html;base64,Cjxib2R5IHN0eWxlPSJiYWNrZ3JvdW5kLWNvbG9yOiMyQTJBMkE7IiBtYXJnaW53aWR0aD0iMHB4IiBtYXJnaW5oZWlnaHQ9IjBweCI+CjxzY3JpcHQgc3JjPSJodHRwczovL3d3dy5kZXNtb3MuY29tL2FwaS92MS45L2NhbGN1bGF0b3IuanM/YXBpS2V5PWRjYjMxNzA5YjQ1MmIxY2Y5ZGMyNjk3MmFkZDBmZGE2Ij48L3NjcmlwdD4KPGRpdiBpZD0iY2FsY3VsYXRvciI+PC9kaXY+CjxzY3JpcHQ+Cgl2YXIgZWx0ID0gZG9jdW1lbnQuZ2V0RWxlbWVudEJ5SWQoImNhbGN1bGF0b3IiKTsKCXZhciBjYWxjdWxhdG9yID0gRGVzbW9zLkdyYXBoaW5nQ2FsY3VsYXRvcihlbHQsIG9wdGlvbnM9e30pOwoJY2FsY3VsYXRvci5zZXRFeHByZXNzaW9uKHsKCQlsYXRleDogJ3kgPSAwLjUgeCArIDMnLAoJCWlkOiAnMCcsCgl9KTsKCjwvc2NyaXB0Pgo=\"\n",
       "            frameborder=\"0\"\n",
       "            allowfullscreen\n",
       "            \n",
       "        ></iframe>\n",
       "        "
      ],
      "text/plain": [
       "<IPython.lib.display.IFrame at 0x7f49b21342e0>"
      ]
     },
     "metadata": {},
     "output_type": "display_data"
    }
   ],
   "source": [
    "from desmospy import Calculator\n",
    "\n",
    "c = Calculator()\n",
    "c.y = 1/2 * c.x + 3\n",
    "c.show()"
   ]
  },
  {
   "cell_type": "markdown",
   "id": "afa5c558-b1bb-4628-8162-d451a7e85a3f",
   "metadata": {},
   "source": [
    "More advanced plots can be created with comparisons and the <code>.define()</code> method:"
   ]
  },
  {
   "cell_type": "code",
   "execution_count": 2,
   "id": "524de5bc-7606-40cd-818c-bc18580c4c58",
   "metadata": {},
   "outputs": [
    {
     "data": {
      "text/html": [
       "\n",
       "        <iframe\n",
       "            width=\"720\"\n",
       "            height=\"360\"\n",
       "            src=\"data:text/html;base64,Cjxib2R5IHN0eWxlPSJiYWNrZ3JvdW5kLWNvbG9yOiMyQTJBMkE7IiBtYXJnaW53aWR0aD0iMHB4IiBtYXJnaW5oZWlnaHQ9IjBweCI+CjxzY3JpcHQgc3JjPSJodHRwczovL3d3dy5kZXNtb3MuY29tL2FwaS92MS45L2NhbGN1bGF0b3IuanM/YXBpS2V5PWRjYjMxNzA5YjQ1MmIxY2Y5ZGMyNjk3MmFkZDBmZGE2Ij48L3NjcmlwdD4KPGRpdiBpZD0iY2FsY3VsYXRvciI+PC9kaXY+CjxzY3JpcHQ+Cgl2YXIgZWx0ID0gZG9jdW1lbnQuZ2V0RWxlbWVudEJ5SWQoImNhbGN1bGF0b3IiKTsKCXZhciBjYWxjdWxhdG9yID0gRGVzbW9zLkdyYXBoaW5nQ2FsY3VsYXRvcihlbHQsIG9wdGlvbnM9e30pOwoJY2FsY3VsYXRvci5zZXRFeHByZXNzaW9uKHsKCQlsYXRleDogJ2EgPSAwLjMnLAoJCWlkOiAnMCcsCgl9KTsKCmNhbGN1bGF0b3Iuc2V0RXhwcmVzc2lvbih7CgkJbGF0ZXg6ICd5IFxcbHQgYSB4JywKCQlpZDogJzEnLAoJfSk7CgpjYWxjdWxhdG9yLnNldEV4cHJlc3Npb24oewoJCWxhdGV4OiAneSBcXGdlIGEgeF57Mn0nLAoJCWlkOiAnMicsCgl9KTsKCmNhbGN1bGF0b3Iuc2V0RXhwcmVzc2lvbih7CgkJbGF0ZXg6ICdhIHggeSA9IDEnLAoJCWlkOiAnMycsCgl9KTsKCjwvc2NyaXB0Pgo=\"\n",
       "            frameborder=\"0\"\n",
       "            allowfullscreen\n",
       "            \n",
       "        ></iframe>\n",
       "        "
      ],
      "text/plain": [
       "<IPython.lib.display.IFrame at 0x7f498b056fd0>"
      ]
     },
     "metadata": {},
     "output_type": "display_data"
    }
   ],
   "source": [
    "c.a = 0.3\n",
    "a,x,y = c.a,c.x,c.y\n",
    "\n",
    "c.define(y < a*x)\n",
    "c.define(y >= a*x**2)\n",
    "c.define(a*x*y == 1)\n",
    "c.show()"
   ]
  },
  {
   "cell_type": "markdown",
   "id": "35f69952-4d5e-4869-b26c-18ca531db2bc",
   "metadata": {},
   "source": [
    "Equations and inequalities can also be combined; first let's define two ellipse regions."
   ]
  },
  {
   "cell_type": "code",
   "execution_count": 3,
   "id": "e453e0e9-ded1-48a9-9e91-443787a0eb61",
   "metadata": {},
   "outputs": [],
   "source": [
    "A = (x**2 / 49 + y**2 / 16 <= 1)\n",
    "B = (x**2 / 16 + y**2 / 49 <= 1)"
   ]
  },
  {
   "cell_type": "markdown",
   "id": "7b0d4a3f-d2b3-4ecf-b5be-034a8637e84a",
   "metadata": {},
   "source": [
    "We can then take the union, also known as a logical OR <code>|</code> of the regions."
   ]
  },
  {
   "cell_type": "code",
   "execution_count": 4,
   "id": "97078246-4be2-4713-8072-bccd2d3612c0",
   "metadata": {},
   "outputs": [
    {
     "data": {
      "text/html": [
       "\n",
       "        <iframe\n",
       "            width=\"720\"\n",
       "            height=\"360\"\n",
       "            src=\"data:text/html;base64,Cjxib2R5IHN0eWxlPSJiYWNrZ3JvdW5kLWNvbG9yOiMyQTJBMkE7IiBtYXJnaW53aWR0aD0iMHB4IiBtYXJnaW5oZWlnaHQ9IjBweCI+CjxzY3JpcHQgc3JjPSJodHRwczovL3d3dy5kZXNtb3MuY29tL2FwaS92MS45L2NhbGN1bGF0b3IuanM/YXBpS2V5PWRjYjMxNzA5YjQ1MmIxY2Y5ZGMyNjk3MmFkZDBmZGE2Ij48L3NjcmlwdD4KPGRpdiBpZD0iY2FsY3VsYXRvciI+PC9kaXY+CjxzY3JpcHQ+Cgl2YXIgZWx0ID0gZG9jdW1lbnQuZ2V0RWxlbWVudEJ5SWQoImNhbGN1bGF0b3IiKTsKCXZhciBjYWxjdWxhdG9yID0gRGVzbW9zLkdyYXBoaW5nQ2FsY3VsYXRvcihlbHQsIG9wdGlvbnM9e30pOwoJY2FsY3VsYXRvci5zZXRFeHByZXNzaW9uKHsKCQlsYXRleDogJ21heCgtIFxcZnJhY3t4XnsyfX17NDl9IC0gXFxmcmFje3leezJ9fXsxNn0gKyAxLCAtIFxcZnJhY3t4XnsyfX17MTZ9IC0gXFxmcmFje3leezJ9fXs0OX0gKyAxKSBcXGdlIDAnLAoJCWlkOiAnMCcsCgl9KTsKCjwvc2NyaXB0Pgo=\"\n",
       "            frameborder=\"0\"\n",
       "            allowfullscreen\n",
       "            \n",
       "        ></iframe>\n",
       "        "
      ],
      "text/plain": [
       "<IPython.lib.display.IFrame at 0x7f49b2134b20>"
      ]
     },
     "metadata": {},
     "output_type": "display_data"
    }
   ],
   "source": [
    "c.define(A | B)\n",
    "c.show()"
   ]
  },
  {
   "cell_type": "markdown",
   "id": "7a37ffcd-1d7a-49b3-b886-9d78fd19500b",
   "metadata": {},
   "source": [
    "We can also take the intersection of the same regions, with the logical AND <code>&</code> operation."
   ]
  },
  {
   "cell_type": "code",
   "execution_count": 5,
   "id": "cbf7f559-8d1d-4e41-a441-c6493148cef0",
   "metadata": {},
   "outputs": [
    {
     "data": {
      "text/html": [
       "\n",
       "        <iframe\n",
       "            width=\"720\"\n",
       "            height=\"360\"\n",
       "            src=\"data:text/html;base64,Cjxib2R5IHN0eWxlPSJiYWNrZ3JvdW5kLWNvbG9yOiMyQTJBMkE7IiBtYXJnaW53aWR0aD0iMHB4IiBtYXJnaW5oZWlnaHQ9IjBweCI+CjxzY3JpcHQgc3JjPSJodHRwczovL3d3dy5kZXNtb3MuY29tL2FwaS92MS45L2NhbGN1bGF0b3IuanM/YXBpS2V5PWRjYjMxNzA5YjQ1MmIxY2Y5ZGMyNjk3MmFkZDBmZGE2Ij48L3NjcmlwdD4KPGRpdiBpZD0iY2FsY3VsYXRvciI+PC9kaXY+CjxzY3JpcHQ+Cgl2YXIgZWx0ID0gZG9jdW1lbnQuZ2V0RWxlbWVudEJ5SWQoImNhbGN1bGF0b3IiKTsKCXZhciBjYWxjdWxhdG9yID0gRGVzbW9zLkdyYXBoaW5nQ2FsY3VsYXRvcihlbHQsIG9wdGlvbnM9e30pOwoJY2FsY3VsYXRvci5zZXRFeHByZXNzaW9uKHsKCQlsYXRleDogJ21pbigtIFxcZnJhY3t4XnsyfX17NDl9IC0gXFxmcmFje3leezJ9fXsxNn0gKyAxLCAtIFxcZnJhY3t4XnsyfX17MTZ9IC0gXFxmcmFje3leezJ9fXs0OX0gKyAxKSBcXGdlIDAnLAoJCWlkOiAnMCcsCgl9KTsKCjwvc2NyaXB0Pgo=\"\n",
       "            frameborder=\"0\"\n",
       "            allowfullscreen\n",
       "            \n",
       "        ></iframe>\n",
       "        "
      ],
      "text/plain": [
       "<IPython.lib.display.IFrame at 0x7f498b075730>"
      ]
     },
     "metadata": {},
     "output_type": "display_data"
    }
   ],
   "source": [
    "c.define(A & B)\n",
    "c.show()"
   ]
  },
  {
   "cell_type": "markdown",
   "id": "0cc59f7d-6e82-4a47-8d36-fed8df4a9ab5",
   "metadata": {},
   "source": [
    "This leaves the logical XOR <code>^</code> operation."
   ]
  },
  {
   "cell_type": "code",
   "execution_count": 6,
   "id": "562bf24f-17ab-4c4d-a0a7-1aa31182053a",
   "metadata": {},
   "outputs": [
    {
     "data": {
      "text/html": [
       "\n",
       "        <iframe\n",
       "            width=\"720\"\n",
       "            height=\"360\"\n",
       "            src=\"data:text/html;base64,Cjxib2R5IHN0eWxlPSJiYWNrZ3JvdW5kLWNvbG9yOiMyQTJBMkE7IiBtYXJnaW53aWR0aD0iMHB4IiBtYXJnaW5oZWlnaHQ9IjBweCI+CjxzY3JpcHQgc3JjPSJodHRwczovL3d3dy5kZXNtb3MuY29tL2FwaS92MS45L2NhbGN1bGF0b3IuanM/YXBpS2V5PWRjYjMxNzA5YjQ1MmIxY2Y5ZGMyNjk3MmFkZDBmZGE2Ij48L3NjcmlwdD4KPGRpdiBpZD0iY2FsY3VsYXRvciI+PC9kaXY+CjxzY3JpcHQ+Cgl2YXIgZWx0ID0gZG9jdW1lbnQuZ2V0RWxlbWVudEJ5SWQoImNhbGN1bGF0b3IiKTsKCXZhciBjYWxjdWxhdG9yID0gRGVzbW9zLkdyYXBoaW5nQ2FsY3VsYXRvcihlbHQsIG9wdGlvbnM9e30pOwoJY2FsY3VsYXRvci5zZXRFeHByZXNzaW9uKHsKCQlsYXRleDogJy0oLSBcXGZyYWN7eF57Mn19ezQ5fSAtIFxcZnJhY3t5XnsyfX17MTZ9ICsgMSkqKC0gXFxmcmFje3heezJ9fXsxNn0gLSBcXGZyYWN7eV57Mn19ezQ5fSArIDEpIFxcZ2UgMCcsCgkJaWQ6ICcwJywKCX0pOwoKPC9zY3JpcHQ+Cg==\"\n",
       "            frameborder=\"0\"\n",
       "            allowfullscreen\n",
       "            \n",
       "        ></iframe>\n",
       "        "
      ],
      "text/plain": [
       "<IPython.lib.display.IFrame at 0x7f498b075f70>"
      ]
     },
     "metadata": {},
     "output_type": "display_data"
    }
   ],
   "source": [
    "c.define(A ^ B)\n",
    "c.show()"
   ]
  }
 ],
 "metadata": {
  "kernelspec": {
   "display_name": "Python 3 (ipykernel)",
   "language": "python",
   "name": "python3"
  },
  "language_info": {
   "codemirror_mode": {
    "name": "ipython",
    "version": 3
   },
   "file_extension": ".py",
   "mimetype": "text/x-python",
   "name": "python",
   "nbconvert_exporter": "python",
   "pygments_lexer": "ipython3",
   "version": "3.9.18"
  }
 },
 "nbformat": 4,
 "nbformat_minor": 5
}
